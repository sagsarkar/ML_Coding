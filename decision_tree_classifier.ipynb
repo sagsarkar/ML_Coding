{
  "nbformat": 4,
  "nbformat_minor": 0,
  "metadata": {
    "colab": {
      "provenance": [],
      "authorship_tag": "ABX9TyP5m4JyBX1ZZmbIeEltl86z",
      "include_colab_link": true
    },
    "kernelspec": {
      "name": "python3",
      "display_name": "Python 3"
    },
    "language_info": {
      "name": "python"
    }
  },
  "cells": [
    {
      "cell_type": "markdown",
      "metadata": {
        "id": "view-in-github",
        "colab_type": "text"
      },
      "source": [
        "<a href=\"https://colab.research.google.com/github/sagsarkar/ML_Coding/blob/main/decision_tree_classifier.ipynb\" target=\"_parent\"><img src=\"https://colab.research.google.com/assets/colab-badge.svg\" alt=\"Open In Colab\"/></a>"
      ]
    },
    {
      "cell_type": "code",
      "execution_count": 1,
      "metadata": {
        "id": "iurm7aMw3aHB"
      },
      "outputs": [],
      "source": [
        "import pandas as pd\n",
        "import numpy as np\n",
        "from collections import Counter\n",
        "\n",
        "from sklearn.model_selection import train_test_split\n",
        "from sklearn import datasets\n",
        "from sklearn.datasets import make_blobs\n",
        "\n",
        "from sklearn.metrics import accuracy_score, precision_score, recall_score, f1_score\n",
        "from sklearn.tree import DecisionTreeClassifier"
      ]
    },
    {
      "cell_type": "code",
      "source": [
        "data = datasets.load_breast_cancer()\n",
        "X = data.data\n",
        "y = data.target\n",
        "\n",
        "# shape of X = (num_data_points, num_features); shape of y = (num_data_points,)\n",
        "X_train, X_test, y_train, y_test = train_test_split(X, y, test_size=0.2, random_state = 42)\n",
        "\n",
        "\n",
        "# Initialize the DecisionTreeClassifier\n",
        "clf = DecisionTreeClassifier(random_state=42, max_depth=10, criterion=\"entropy\")\n",
        "\n",
        "# Train the classifier on the training data\n",
        "clf.fit(X_train, y_train)\n",
        "\n",
        "# Make predictions on the test set\n",
        "y_pred = clf.predict(X_test)\n",
        "\n",
        "# Calculate accuracy\n",
        "accuracy = accuracy_score(y_test, y_pred)\n",
        "print(\"Accuracy:\", accuracy)"
      ],
      "metadata": {
        "colab": {
          "base_uri": "https://localhost:8080/"
        },
        "id": "2b0C8aMW5x7i",
        "outputId": "142fb060-9474-4f12-cb9d-ecc654a88895"
      },
      "execution_count": 2,
      "outputs": [
        {
          "output_type": "stream",
          "name": "stdout",
          "text": [
            "Accuracy: 0.9473684210526315\n"
          ]
        }
      ]
    },
    {
      "cell_type": "code",
      "source": [
        "class TreeNode:\n",
        "  def __init__(self, feature_idx=None, threshold=None, left=None, right=None, value=None):\n",
        "    self.feature_idx = feature_idx\n",
        "    self.threshold = threshold\n",
        "    self.left = left\n",
        "    self.right = right\n",
        "    self.value = value"
      ],
      "metadata": {
        "id": "4GTIPttc3gD1"
      },
      "execution_count": 3,
      "outputs": []
    },
    {
      "cell_type": "code",
      "source": [
        "class DecisionTree:\n",
        "  def __init__(self, min_samples=2, max_depth=10):\n",
        "    self.min_samples = min_samples\n",
        "    self.max_depth = max_depth\n",
        "\n",
        "  def _entropy(self, y):\n",
        "    class_frequencies = Counter(y)\n",
        "    probabilities = []\n",
        "    tot = 0\n",
        "    for cl in class_frequencies.keys():\n",
        "      count = class_frequencies[cl]\n",
        "      tot += count\n",
        "      probabilities.append(count)\n",
        "    probabilities = np.array(probabilities)/tot\n",
        "\n",
        "    entropy = sum([-p*np.log2(p) for p in probabilities])\n",
        "\n",
        "    return entropy\n",
        "\n",
        "  def _information_gain(self, feature, threshold, y):\n",
        "    parent_entropy = self._entropy(y)\n",
        "\n",
        "    left_indices = feature <= threshold\n",
        "    right_indices = ~left_indices\n",
        "\n",
        "    left_y = y[left_indices]\n",
        "    right_y = y[right_indices]\n",
        "\n",
        "    left_entropy = self._entropy(left_y)\n",
        "    right_entropy = self._entropy(right_y)\n",
        "\n",
        "    left_weight = len(left_y)/len(y)\n",
        "    right_weight = len(right_y)/len(y)\n",
        "\n",
        "    new_entropy = (left_weight*left_entropy) + (right_weight*right_entropy)\n",
        "\n",
        "    information_gain = parent_entropy - new_entropy\n",
        "\n",
        "    return information_gain\n",
        "\n",
        "  def _majority_class(self, y):\n",
        "    class_frequencies = Counter(y)\n",
        "    highest_frequency = 0\n",
        "    top_class = None\n",
        "    for cl in class_frequencies.keys():\n",
        "      count = class_frequencies[cl]\n",
        "      if count > highest_frequency:\n",
        "        highest_frequency = count\n",
        "        top_class = cl\n",
        "\n",
        "    return top_class\n",
        "\n",
        "  def fit(self, X, y):\n",
        "    self.num_features = X.shape[1]\n",
        "    self.root = self._grow_tree(X, y)\n",
        "\n",
        "  def _grow_tree(self, X, y, depth=0):\n",
        "    if depth > self.max_depth or len(y) < self.min_samples:\n",
        "      return TreeNode(value = self._majority_class(y))\n",
        "\n",
        "    best_gain = 0\n",
        "    best_split = None\n",
        "\n",
        "    for feature_idx in range(self.num_features):\n",
        "      feature = X[:,feature_idx]\n",
        "      for threshold in feature:\n",
        "        gain = self._information_gain(feature, threshold, y)\n",
        "        if gain > best_gain:\n",
        "          best_gain = gain\n",
        "          best_split = (feature_idx, threshold)\n",
        "\n",
        "    if best_gain == 0:\n",
        "      return TreeNode(value = self._majority_class(y))\n",
        "\n",
        "    left_indices = X[:,best_split[0]] <= best_split[1]\n",
        "    right_indices = ~left_indices\n",
        "\n",
        "    left = self._grow_tree(X[left_indices], y[left_indices], depth+1)\n",
        "    right = self._grow_tree(X[right_indices], y[right_indices], depth+1)\n",
        "\n",
        "    return TreeNode(feature_idx=best_split[0], threshold=best_split[1], left=left, right=right)\n",
        "\n",
        "  def _traverse_tree(self, x):\n",
        "    node = self.root\n",
        "    while node.value == None:\n",
        "      feature_idx, threshold = node.feature_idx, node.threshold\n",
        "      if x[feature_idx] <= threshold:\n",
        "        node = node.left\n",
        "      else:\n",
        "        node = node.right\n",
        "\n",
        "    return node.value\n",
        "\n",
        "  def predict(self, X):\n",
        "    return np.array([self._traverse_tree(x) for x in X])\n",
        "\n"
      ],
      "metadata": {
        "id": "0lTr-3Nv5xPn"
      },
      "execution_count": 4,
      "outputs": []
    },
    {
      "cell_type": "code",
      "source": [
        "clf = DecisionTree(max_depth=10)\n",
        "clf.fit(X_train, y_train)"
      ],
      "metadata": {
        "id": "kdYGhmzpIttd"
      },
      "execution_count": 5,
      "outputs": []
    },
    {
      "cell_type": "code",
      "source": [
        "y_pred = clf.predict(X_test)\n",
        "acc = accuracy_score(y_test, y_pred)\n",
        "\n",
        "print(\"Accuracy: \",acc)"
      ],
      "metadata": {
        "colab": {
          "base_uri": "https://localhost:8080/"
        },
        "id": "PRDTOh-NUu7D",
        "outputId": "78717c43-0d73-4590-cc6b-620b2db22df1"
      },
      "execution_count": 6,
      "outputs": [
        {
          "output_type": "stream",
          "name": "stdout",
          "text": [
            "Accuracy:  0.9298245614035088\n"
          ]
        }
      ]
    }
  ]
}